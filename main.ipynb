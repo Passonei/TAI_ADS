{
 "cells": [
  {
   "cell_type": "code",
   "execution_count": 18,
   "metadata": {},
   "outputs": [],
   "source": [
    "import os\n",
    "\n",
    "import dgl\n",
    "from dgl.dataloading import GraphDataLoader\n",
    "from dgl.nn import GraphConv\n",
    "import matplotlib.pyplot as plt\n",
    "import numpy as np\n",
    "from sklearn.model_selection import train_test_split\n",
    "import torch\n",
    "import torch.nn as nn\n",
    "from torch.utils.data.sampler import SubsetRandomSampler\n",
    "from torcheval.metrics import MeanSquaredError\n",
    "from tqdm import tqdm\n",
    "\n",
    "os.environ['DGLBACKEND'] = 'pytorch'\n",
    "device = torch.device(\"cuda\" if torch.cuda.is_available() else \"cpu\")"
   ]
  },
  {
   "cell_type": "code",
   "execution_count": 19,
   "metadata": {},
   "outputs": [],
   "source": [
    "class GCN(nn.Module):\n",
    "    def __init__(self, in_feats, h_feats):\n",
    "        super(GCN, self).__init__()\n",
    "        self.conv1 = GraphConv(in_feats, h_feats)\n",
    "        self.conv2 = GraphConv(h_feats, 1)\n",
    "\n",
    "    def forward(self, g, in_feat):\n",
    "        h = self.conv1(g, in_feat)\n",
    "        h = nn.functional.relu(h)\n",
    "        h = self.conv2(g, h)\n",
    "        g.ndata[\"h\"] = h\n",
    "        return dgl.mean_nodes(g, \"h\")\n",
    "    \n",
    "    def run_training(self, epochs, dataloader, optimizer, node_features_func):\n",
    "        self.train()\n",
    "        for epoch in range(epochs):\n",
    "            for batched_graph, labels in tqdm(dataloader):\n",
    "                batched_graph = batched_graph.to(device)\n",
    "                labels = labels.to(device)\n",
    "                node_features = node_features_func(batched_graph.ndata).float()\n",
    "                pred = self(batched_graph, node_features)\n",
    "                loss = nn.functional.mse_loss(pred, labels)\n",
    "                optimizer.zero_grad()\n",
    "                loss.backward()\n",
    "                optimizer.step()\n",
    "\n",
    "    @torch.no_grad()\n",
    "    def run_evaluation(self, dataloader, metric, node_features_func):\n",
    "        self.eval()\n",
    "        metric.to(device)\n",
    "        for batched_graph, labels in dataloader:\n",
    "            batched_graph = batched_graph.to(device)\n",
    "            labels = labels.to(device)\n",
    "            node_features = node_features_func(batched_graph.ndata).float()\n",
    "            pred = self(batched_graph, node_features)\n",
    "            metric.update(pred, labels)\n",
    "        print(metric.compute())"
   ]
  },
  {
   "cell_type": "code",
   "execution_count": 20,
   "metadata": {},
   "outputs": [],
   "source": [
    "data = dgl.data.QM9Dataset(label_keys=['U'], raw_dir='./data')"
   ]
  },
  {
   "cell_type": "code",
   "execution_count": 21,
   "metadata": {},
   "outputs": [
    {
     "data": {
      "image/png": "[encoded data removed]",
      "text/plain": [
       "<Figure size 432x288 with 1 Axes>"
      ]
     },
     "metadata": {
      "needs_background": "light"
     },
     "output_type": "display_data"
    }
   ],
   "source": [
    "with np.load('./data/qm9_eV.npz') as f:\n",
    "    labels = f['U']\n",
    "plt.hist(labels, bins=100)\n",
    "plt.show()"
   ]
  },
  {
   "cell_type": "code",
   "execution_count": 22,
   "metadata": {},
   "outputs": [],
   "source": [
    "# train_indices, test_indices = train_test_split(range(len(data)), test_size=0.2, random_state=42)\n",
    "train_indices, test_indices = train_test_split((range(500)), test_size=0.2, random_state=42)\n",
    "\n",
    "\n",
    "train_sampler = SubsetRandomSampler(train_indices)\n",
    "test_sampler = SubsetRandomSampler(test_indices)\n",
    "\n",
    "train_dataloader = GraphDataLoader(data, sampler=train_sampler, batch_size=64, drop_last=False)\n",
    "test_dataloader = GraphDataLoader(data, sampler=test_sampler, batch_size=64, drop_last=False)"
   ]
  },
  {
   "cell_type": "code",
   "execution_count": 23,
   "metadata": {},
   "outputs": [
    {
     "name": "stderr",
     "output_type": "stream",
     "text": [
      "100%|██████████| 7/7 [00:00<00:00,  7.34it/s]\n",
      "100%|██████████| 7/7 [00:01<00:00,  6.67it/s]\n",
      "100%|██████████| 7/7 [00:00<00:00,  7.44it/s]\n",
      "100%|██████████| 7/7 [00:00<00:00,  8.66it/s]\n",
      "100%|██████████| 7/7 [00:00<00:00,  8.66it/s]\n",
      "100%|██████████| 7/7 [00:01<00:00,  5.14it/s]\n",
      "100%|██████████| 7/7 [00:01<00:00,  6.75it/s]\n",
      "100%|██████████| 7/7 [00:01<00:00,  4.07it/s]\n",
      "100%|██████████| 7/7 [00:01<00:00,  4.97it/s]\n",
      "100%|██████████| 7/7 [00:00<00:00,  7.63it/s]\n",
      "100%|██████████| 7/7 [00:01<00:00,  6.35it/s]\n",
      "100%|██████████| 7/7 [00:00<00:00,  7.89it/s]\n",
      "100%|██████████| 7/7 [00:00<00:00,  8.13it/s]\n",
      "100%|██████████| 7/7 [00:00<00:00,  8.48it/s]\n",
      "100%|██████████| 7/7 [00:00<00:00,  7.26it/s]\n",
      "100%|██████████| 7/7 [00:00<00:00,  8.29it/s]\n",
      "100%|██████████| 7/7 [00:00<00:00,  8.20it/s]\n",
      "100%|██████████| 7/7 [00:00<00:00,  8.60it/s]\n",
      "100%|██████████| 7/7 [00:00<00:00,  8.40it/s]\n",
      "100%|██████████| 7/7 [00:00<00:00,  8.21it/s]\n"
     ]
    },
    {
     "name": "stdout",
     "output_type": "stream",
     "text": [
      "tensor(278.1709)\n"
     ]
    }
   ],
   "source": [
    "model = GCN(3, 16)\n",
    "model.to(device)\n",
    "optimizer = torch.optim.AdamW(model.parameters(), lr=0.01)\n",
    "\n",
    "node_features_func = lambda ndata: ndata[\"R\"]\n",
    "model.run_training(20, train_dataloader, optimizer, node_features_func)\n",
    "model.run_evaluation(test_dataloader, MeanSquaredError(), node_features_func)"
   ]
  },
  {
   "cell_type": "code",
   "execution_count": 24,
   "metadata": {},
   "outputs": [
    {
     "name": "stderr",
     "output_type": "stream",
     "text": [
      "100%|██████████| 7/7 [00:00<00:00,  8.41it/s]\n",
      "100%|██████████| 7/7 [00:00<00:00,  8.13it/s]\n",
      "100%|██████████| 7/7 [00:00<00:00,  7.79it/s]\n",
      "100%|██████████| 7/7 [00:00<00:00,  8.25it/s]\n",
      "100%|██████████| 7/7 [00:00<00:00,  8.34it/s]\n",
      "100%|██████████| 7/7 [00:00<00:00,  8.18it/s]\n",
      "100%|██████████| 7/7 [00:01<00:00,  6.17it/s]\n",
      "100%|██████████| 7/7 [00:01<00:00,  5.11it/s]\n",
      "100%|██████████| 7/7 [00:00<00:00,  7.96it/s]\n",
      "100%|██████████| 7/7 [00:00<00:00,  7.69it/s]\n",
      "100%|██████████| 7/7 [00:00<00:00,  7.74it/s]\n",
      "100%|██████████| 7/7 [00:00<00:00,  8.56it/s]\n",
      "100%|██████████| 7/7 [00:00<00:00,  8.23it/s]\n",
      "100%|██████████| 7/7 [00:00<00:00,  8.15it/s]\n",
      "100%|██████████| 7/7 [00:00<00:00,  7.70it/s]\n",
      "100%|██████████| 7/7 [00:00<00:00,  7.97it/s]\n",
      "100%|██████████| 7/7 [00:00<00:00,  7.95it/s]\n",
      "100%|██████████| 7/7 [00:00<00:00,  7.64it/s]\n",
      "100%|██████████| 7/7 [00:00<00:00,  7.91it/s]\n",
      "100%|██████████| 7/7 [00:00<00:00,  7.35it/s]\n"
     ]
    },
    {
     "name": "stdout",
     "output_type": "stream",
     "text": [
      "tensor(314.7232)\n"
     ]
    }
   ],
   "source": [
    "model = GCN(4, 16)\n",
    "model.to(device)\n",
    "optimizer = torch.optim.AdamW(model.parameters(), lr=0.01)\n",
    "\n",
    "node_features_func = lambda ndata: torch.concatenate([ndata[\"R\"], ndata[\"Z\"].unsqueeze(0).T], dim=1)\n",
    "model.run_training(20, train_dataloader, optimizer, node_features_func)\n",
    "model.run_evaluation(test_dataloader, MeanSquaredError(), node_features_func)"
   ]
  }
 ],
 "metadata": {
  "kernelspec": {
   "display_name": "Python 3",
   "language": "python",
   "name": "python3"
  },
  "language_info": {
   "codemirror_mode": {
    "name": "ipython",
    "version": 3
   },
   "file_extension": ".py",
   "mimetype": "text/x-python",
   "name": "python",
   "nbconvert_exporter": "python",
   "pygments_lexer": "ipython3",
   "version": "3.9.12"
  },
  "orig_nbformat": 4
 },
 "nbformat": 4,
 "nbformat_minor": 2
}
