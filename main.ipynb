{
 "cells": [
  {
   "cell_type": "code",
   "execution_count": null,
   "metadata": {},
   "outputs": [],
   "source": [
    "import os\n",
    "\n",
    "import dgl\n",
    "from dgl.dataloading import GraphDataLoader\n",
    "from dgl.nn import GraphConv\n",
    "import matplotlib.pyplot as plt\n",
    "import numpy as np\n",
    "from sklearn.model_selection import train_test_split\n",
    "import torch\n",
    "import torch.nn as nn\n",
    "from torch.utils.data.sampler import SubsetRandomSampler\n",
    "from torcheval.metrics import MeanSquaredError\n",
    "from tqdm import tqdm\n",
    "\n",
    "os.environ['DGLBACKEND'] = 'pytorch'\n",
    "device = torch.device(\"cuda\" if torch.cuda.is_available() else \"cpu\")"
   ]
  },
  {
   "cell_type": "code",
   "execution_count": null,
   "metadata": {},
   "outputs": [],
   "source": [
    "class RandomClassifier(nn.Module):\n",
    "    def __init__(self) -> None:\n",
    "        super(RandomClassifier, self).__init__()\n",
    "        self.train_loss = []\n",
    "\n",
    "    def run_evaluation(self, dataloader, all_labels, metric):\n",
    "        metric.to(device)\n",
    "        distribution = torch.distributions.normal.Normal(np.mean(all_labels), np.std(all_labels))\n",
    "        for batched_graph, labels in tqdm(dataloader):\n",
    "            batched_graph = batched_graph.to(device)\n",
    "            labels = labels.to(device)\n",
    "            pred = distribution.sample((len(labels), 1))\n",
    "            metric.update(pred, labels)\n",
    "        print(metric.compute())\n",
    "        return metric.compute()"
   ]
  },
  {
   "cell_type": "code",
   "execution_count": null,
   "metadata": {},
   "outputs": [],
   "source": [
    "class BaseGCN(nn.Module):\n",
    "    def __init__(self) -> None:\n",
    "        super(BaseGCN, self).__init__()\n",
    "        self.train_loss = []\n",
    "\n",
    "    def run_training(self, epochs, dataloader, optimizer, node_features_func):\n",
    "        self.train()\n",
    "        for epoch in range(epochs):\n",
    "            for batched_graph, labels in tqdm(dataloader):\n",
    "                batched_graph = batched_graph.to(device)\n",
    "                labels = labels.to(device)\n",
    "                node_features = node_features_func(batched_graph.ndata).float()\n",
    "                pred = self(batched_graph, node_features)\n",
    "                loss = nn.functional.mse_loss(pred, labels)\n",
    "                optimizer.zero_grad()\n",
    "                loss.backward()\n",
    "                optimizer.step()\n",
    "\n",
    "    @torch.no_grad()\n",
    "    def run_evaluation(self, dataloader, metric, node_features_func):\n",
    "        self.eval()\n",
    "        metric.to(device)\n",
    "        for batched_graph, labels in dataloader:\n",
    "            batched_graph = batched_graph.to(device)\n",
    "            labels = labels.to(device)\n",
    "            node_features = node_features_func(batched_graph.ndata).float()\n",
    "            pred = self(batched_graph, node_features)\n",
    "            metric.update(pred, labels)\n",
    "        print(metric.compute())\n",
    "        return metric.compute()"
   ]
  },
  {
   "cell_type": "code",
   "execution_count": null,
   "metadata": {},
   "outputs": [],
   "source": [
    "class ShallowGCN(BaseGCN):\n",
    "    def __init__(self, in_feats, h_feats) -> None:\n",
    "        super(ShallowGCN, self).__init__()\n",
    "        self.conv1 = GraphConv(in_feats, h_feats)\n",
    "        self.conv2 = GraphConv(h_feats, 1)\n",
    "\n",
    "    def forward(self, g, in_feat):\n",
    "        h = self.conv1(g, in_feat)\n",
    "        h = nn.functional.relu(h)\n",
    "        h = self.conv2(g, h)\n",
    "        g.ndata[\"h\"] = h\n",
    "        return dgl.mean_nodes(g, \"h\")"
   ]
  },
  {
   "cell_type": "code",
   "execution_count": null,
   "metadata": {},
   "outputs": [],
   "source": [
    "class DeepGCN(BaseGCN):\n",
    "    def __init__(self, in_feats, h_feats) -> None:\n",
    "        super(DeepGCN, self).__init__()\n",
    "        self.conv1 = GraphConv(in_feats, h_feats)\n",
    "        self.conv2 = GraphConv(h_feats, h_feats)\n",
    "        self.conv3 = GraphConv(h_feats, h_feats)\n",
    "        self.conv4 = GraphConv(h_feats, 1)\n",
    "\n",
    "    def forward(self, g, in_feat):\n",
    "        h = self.conv1(g, in_feat)\n",
    "        h = nn.functional.relu(h)\n",
    "        h = self.conv2(g, h)\n",
    "        h = nn.functional.relu(h)\n",
    "        h = self.conv3(g, h)\n",
    "        h = nn.functional.relu(h)\n",
    "        h = self.conv4(g, h)\n",
    "        g.ndata[\"h\"] = h\n",
    "        return dgl.mean_nodes(g, \"h\")"
   ]
  },
  {
   "cell_type": "code",
   "execution_count": null,
   "metadata": {},
   "outputs": [],
   "source": [
    "pred_label = 'U'\n",
    "data = dgl.data.QM9Dataset(label_keys=[pred_label], raw_dir='./data')\n",
    "\n",
    "with np.load('./data/qm9_eV.npz') as f:\n",
    "    labels = f[pred_label]\n",
    "plt.hist(labels, bins=100)\n",
    "plt.show()"
   ]
  },
  {
   "cell_type": "code",
   "execution_count": null,
   "metadata": {},
   "outputs": [],
   "source": [
    "train_indices, test_indices = train_test_split(range(len(data)), test_size=0.2, random_state=42)\n",
    "\n",
    "train_sampler = SubsetRandomSampler(train_indices)\n",
    "test_sampler = SubsetRandomSampler(test_indices)\n",
    "\n",
    "train_dataloader = GraphDataLoader(data, sampler=train_sampler, batch_size=64, drop_last=False)\n",
    "test_dataloader = GraphDataLoader(data, sampler=test_sampler, batch_size=64, drop_last=False)"
   ]
  },
  {
   "cell_type": "code",
   "execution_count": null,
   "metadata": {},
   "outputs": [],
   "source": [
    "model = RandomClassifier()\n",
    "eval_result = np.mean([model.run_evaluation(test_dataloader, labels, MeanSquaredError()) for _ in range(5)])\n",
    "print(eval_result)"
   ]
  },
  {
   "cell_type": "code",
   "execution_count": null,
   "metadata": {},
   "outputs": [],
   "source": [
    "model = ShallowGCN(3, 16)\n",
    "model.to(device)\n",
    "optimizer = torch.optim.AdamW(model.parameters(), lr=0.01)\n",
    "node_features_func = lambda ndata: ndata[\"R\"]\n",
    "model.run_training(20, train_dataloader, optimizer, node_features_func)\n",
    "model.run_evaluation(test_dataloader, MeanSquaredError(), node_features_func)"
   ]
  },
  {
   "cell_type": "code",
   "execution_count": null,
   "metadata": {},
   "outputs": [],
   "source": [
    "model = ShallowGCN(4, 16)\n",
    "model.to(device)\n",
    "optimizer = torch.optim.AdamW(model.parameters(), lr=0.01)\n",
    "node_features_func = lambda ndata: torch.concatenate([ndata[\"R\"], ndata[\"Z\"].unsqueeze(0).T], dim=1)\n",
    "model.run_training(20, train_dataloader, optimizer, node_features_func)\n",
    "model.run_evaluation(test_dataloader, MeanSquaredError(), node_features_func)"
   ]
  },
  {
   "cell_type": "code",
   "execution_count": null,
   "metadata": {},
   "outputs": [],
   "source": [
    "model = DeepGCN(3, 16)\n",
    "model.to(device)\n",
    "optimizer = torch.optim.AdamW(model.parameters(), lr=0.01)\n",
    "node_features_func = lambda ndata: ndata[\"R\"]\n",
    "model.run_training(20, train_dataloader, optimizer, node_features_func)\n",
    "model.run_evaluation(test_dataloader, MeanSquaredError(), node_features_func)"
   ]
  },
  {
   "cell_type": "code",
   "execution_count": null,
   "metadata": {},
   "outputs": [],
   "source": [
    "model = DeepGCN(4, 16)\n",
    "model.to(device)\n",
    "optimizer = torch.optim.AdamW(model.parameters(), lr=0.01)\n",
    "node_features_func = lambda ndata: torch.concatenate([ndata[\"R\"], ndata[\"Z\"].unsqueeze(0).T], dim=1)\n",
    "model.run_training(20, train_dataloader, optimizer, node_features_func)\n",
    "model.run_evaluation(test_dataloader, MeanSquaredError(), node_features_func)"
   ]
  }
 ],
 "metadata": {
  "kernelspec": {
   "display_name": "Python 3",
   "language": "python",
   "name": "python3"
  },
  "language_info": {
   "codemirror_mode": {
    "name": "ipython",
    "version": 3
   },
   "file_extension": ".py",
   "mimetype": "text/x-python",
   "name": "python",
   "nbconvert_exporter": "python",
   "pygments_lexer": "ipython3",
   "version": "3.9.12"
  },
  "orig_nbformat": 4
 },
 "nbformat": 4,
 "nbformat_minor": 2
}
