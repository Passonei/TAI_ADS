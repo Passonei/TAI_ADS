{
 "cells": [
  {
   "cell_type": "code",
   "execution_count": null,
   "metadata": {},
   "outputs": [],
   "source": [
    "import os\n",
    "\n",
    "import dgl\n",
    "from dgl.dataloading import GraphDataLoader\n",
    "from dgl.nn import GraphConv\n",
    "import matplotlib.pyplot as plt\n",
    "import numpy as np\n",
    "from sklearn.model_selection import train_test_split\n",
    "import torch\n",
    "import torch.nn as nn\n",
    "from torch.utils.data.sampler import SubsetRandomSampler\n",
    "from torcheval.metrics import MeanSquaredError\n",
    "from tqdm import tqdm\n",
    "\n",
    "os.environ['DGLBACKEND'] = 'pytorch'\n",
    "if torch.cuda.device_count() > 0:\n",
    "    device = torch.device(\"cuda\")\n",
    "else:\n",
    "    device = torch.device(\"cpu\")"
   ]
  },
  {
   "cell_type": "code",
   "execution_count": null,
   "metadata": {},
   "outputs": [],
   "source": [
    "class GCN(nn.Module):\n",
    "    def __init__(self, in_feats, h_feats):\n",
    "        super(GCN, self).__init__()\n",
    "        self.conv1 = GraphConv(in_feats, h_feats)\n",
    "        self.conv2 = GraphConv(h_feats, 1)\n",
    "\n",
    "    def forward(self, g, in_feat):\n",
    "        h = self.conv1(g, in_feat)\n",
    "        h = nn.functional.relu(h)\n",
    "        h = self.conv2(g, h)\n",
    "        g.ndata[\"h\"] = h\n",
    "        return dgl.mean_nodes(g, \"h\")\n",
    "    \n",
    "    def run_training(self, epochs, dataloader, optimizer, node_features_func):\n",
    "        self.train()\n",
    "        for epoch in range(epochs):\n",
    "            for batched_graph, labels in tqdm(dataloader):\n",
    "                batched_graph = batched_graph.to(device)\n",
    "                labels = labels.to(device)\n",
    "                node_features = node_features_func(batched_graph.ndata).float()\n",
    "                pred = self(batched_graph, node_features)\n",
    "                loss = nn.functional.mse_loss(pred, labels)\n",
    "                optimizer.zero_grad()\n",
    "                loss.backward()\n",
    "                optimizer.step()\n",
    "\n",
    "    @torch.no_grad()\n",
    "    def run_evaluation(self, dataloader, metric, node_features_func):\n",
    "        self.eval()\n",
    "        metric.to(device)\n",
    "        for batched_graph, labels in dataloader:\n",
    "            batched_graph = batched_graph.to(device)\n",
    "            labels = labels.to(device)\n",
    "            node_features = node_features_func(batched_graph.ndata).float()\n",
    "            pred = self(batched_graph, node_features)\n",
    "            metric.update(pred, labels)\n",
    "        print(metric.compute())"
   ]
  },
  {
   "cell_type": "code",
   "execution_count": null,
   "metadata": {},
   "outputs": [],
   "source": [
    "data = dgl.data.QM9Dataset(label_keys=['U0'], raw_dir='./data')"
   ]
  },
  {
   "cell_type": "code",
   "execution_count": null,
   "metadata": {},
   "outputs": [],
   "source": [
    "with np.load('./data/qm9_eV.npz') as f:\n",
    "    labels = f['U0']\n",
    "plt.hist(labels, bins=100)\n",
    "plt.show()"
   ]
  },
  {
   "cell_type": "code",
   "execution_count": null,
   "metadata": {},
   "outputs": [],
   "source": [
    "train_indices, test_indices = train_test_split(range(len(data)), test_size=0.2, random_state=42)\n",
    "\n",
    "train_sampler = SubsetRandomSampler(train_indices)\n",
    "test_sampler = SubsetRandomSampler(test_indices)\n",
    "\n",
    "train_dataloader = GraphDataLoader(data, sampler=train_sampler, batch_size=64, drop_last=False)\n",
    "test_dataloader = GraphDataLoader(data, sampler=test_sampler, batch_size=64, drop_last=False)"
   ]
  },
  {
   "cell_type": "code",
   "execution_count": null,
   "metadata": {},
   "outputs": [],
   "source": [
    "model = GCN(3, 16)\n",
    "model.to(device)\n",
    "optimizer = torch.optim.AdamW(model.parameters(), lr=0.01)\n",
    "\n",
    "node_features_func = lambda ndata: ndata[\"R\"]\n",
    "model.run_training(20, train_dataloader, optimizer, node_features_func)\n",
    "model.run_evaluation(test_dataloader, MeanSquaredError(), node_features_func)"
   ]
  },
  {
   "cell_type": "code",
   "execution_count": null,
   "metadata": {},
   "outputs": [],
   "source": [
    "model = GCN(4, 16)\n",
    "model.to(device)\n",
    "optimizer = torch.optim.AdamW(model.parameters(), lr=0.01)\n",
    "\n",
    "node_features_func = lambda ndata: torch.concatenate([ndata[\"R\"], ndata[\"Z\"].unsqueeze(0).T], dim=1)\n",
    "model.run_training(20, train_dataloader, optimizer, node_features_func)\n",
    "model.run_evaluation(test_dataloader, MeanSquaredError(), node_features_func)"
   ]
  }
 ],
 "metadata": {
  "language_info": {
   "name": "python"
  },
  "orig_nbformat": 4
 },
 "nbformat": 4,
 "nbformat_minor": 2
}
